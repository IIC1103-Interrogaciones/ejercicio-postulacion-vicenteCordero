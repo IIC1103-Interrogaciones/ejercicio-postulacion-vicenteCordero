{
 "cells": [
  {
   "cell_type": "markdown",
   "metadata": {},
   "source": [
    "# Ejercicio de Postulación - Área de Interrogaciones"
   ]
  },
  {
   "cell_type": "markdown",
   "metadata": {},
   "source": [
    "Nombre: Vicente Cordero Pérez\n",
    "\n",
    "Email: vicente.cordero@uc.cl\n",
    "\n",
    "Telegram: vicenteCordero"
   ]
  },
  {
   "cell_type": "markdown",
   "metadata": {},
   "source": [
    "## Código solución (NO MODIFICAR)"
   ]
  },
  {
   "cell_type": "code",
   "execution_count": 11,
   "metadata": {},
   "outputs": [],
   "source": [
    "#code.py\n",
    "def obtener_proximos(partidos, equipo):\n",
    "    equipos = []\n",
    "    ex_rivales = []\n",
    "    for partido in partidos:\n",
    "        if partido[0] not in equipos:\n",
    "            equipos.append(partido[0])\n",
    "        if partido[1] not in equipos:\n",
    "            equipos.append(partido[1])\n",
    "        if equipo == partido[0]:\n",
    "            ex_rivales.append(partido[1])\n",
    "        if equipo == partido[1]:\n",
    "            ex_rivales.append(partido[0])\n",
    "    pendientes = []\n",
    "    for rival in equipos:\n",
    "        if rival not in ex_rivales:\n",
    "            pendientes.append(rival)\n",
    "    return pendientes\n"
   ]
  },
  {
   "cell_type": "markdown",
   "metadata": {},
   "source": [
    "## Runner Personalizado (Opcional Modificar) "
   ]
  },
  {
   "cell_type": "markdown",
   "metadata": {},
   "source": [
    "Se tendra en consideración si logran hacer que los outputs sean iguales (solo modificando el runner) independiente del orden en que retornen los elementos en la lista."
   ]
  },
  {
   "cell_type": "code",
   "execution_count": 13,
   "metadata": {},
   "outputs": [],
   "source": [
    "from functools import partial\n",
    "\n",
    "def obtener_proximos_modificada(func_original, partidos, equipo):\n",
    "    resultado = func_original(partidos, equipo)\n",
    "    # Cambiar Comportamiento de la función original (opcional)\n",
    "    resultado.sort()\n",
    "    return resultado\n",
    "\n",
    "# Con esto reescribimos la función original para capturar el capturar resultado del alumno y modificarlo si es necesario\n",
    "obtener_proximos = partial(obtener_proximos_modificada, obtener_proximos)\n"
   ]
  },
  {
   "cell_type": "markdown",
   "metadata": {},
   "source": [
    "## Enunciado"
   ]
  },
  {
   "cell_type": "markdown",
   "metadata": {},
   "source": [
    "### Objetivo\n",
    "\n",
    "Para este ejercicio, deberás organizar las próximas fechas del DCCampeonato de fútbol. Para ello, tienes que procurar que todos los equipos jueguen **exactamente una vez** contra todos los demás.\n",
    "\n",
    "En particular, se te pide que implementes la función `obtener_proximos(partidos, equipo)`, donde `partidos` es una lista de listas que contiene los encuentros ya jugados. Esta de la forma:\n",
    "```py\n",
    "partidos = [[nombre_equipo1, nombre_equipo2], ..., [nombre_equipoN, nombre_equipoM], ...]\n",
    "```\n",
    "\n",
    "Donde los nombres de los equipos son _strings_, al igual que el argumento `equipo` recibido.\n",
    "\n",
    "Esta función debe retornar una lista que contenga aquellos equipos con los que el entregado **aún no juega**.\n",
    "\n",
    "Considera que un equipo juegue contra sí mismo es un partido válido. También, que todos los equipos existentes serán los ya presentes en los partidos recibidos, es decir, no existen más equipos que los allí mencionados."
   ]
  },
  {
   "cell_type": "markdown",
   "metadata": {},
   "source": [
    "### Ejemplo"
   ]
  },
  {
   "cell_type": "markdown",
   "metadata": {},
   "source": [
    "#### Input\n",
    "\n",
    "```py\n",
    "partidos = [\n",
    "    [\"CC\", \"UCH\"], \n",
    "    [\"UC\", \"CC\"],\n",
    "    [\"UE\", \"UCH\"],\n",
    "    [\"UC\", \"UE\"],\n",
    "]\n",
    "equipo = \"CC\"\n",
    "```\n",
    "\n",
    "#### Output\n",
    "\n",
    "```py\n",
    "[\"CC\", \"UE\"]\n",
    "```\n",
    "\n",
    "#### Explicación\n",
    "\n",
    "De los partidos que ya se han jugado (variable `partidos`), podemos ver que existen los siguientes equipos:\n",
    "- ``\"CC\"``\n",
    "- ``\"UCH\"``\n",
    "- ``\"UC\"``\n",
    "- ``\"UE\"``\n",
    "\n",
    "Luego, se buscan todos los rivales faltantes para el equipo ``\"CC\"``: como ya jugó contra ``\"UCH\"`` y ``\"UC\"``, solo le quedan ``\"UE\"`` y sí mismo. Por lo tanto, el resultado es una lista con dichos nombres."
   ]
  },
  {
   "cell_type": "markdown",
   "metadata": {},
   "source": [
    "## Testcases"
   ]
  },
  {
   "cell_type": "markdown",
   "metadata": {},
   "source": [
    "### Testcase 1"
   ]
  },
  {
   "cell_type": "markdown",
   "metadata": {},
   "source": [
    "#### Input"
   ]
  },
  {
   "cell_type": "code",
   "execution_count": 22,
   "metadata": {},
   "outputs": [
    {
     "data": {
      "text/plain": [
       "[]"
      ]
     },
     "execution_count": 22,
     "metadata": {},
     "output_type": "execute_result"
    }
   ],
   "source": [
    "# No hay partidos pendientes\n",
    "partidos = [\n",
    "    [\"CC\", \"UCH\"],\n",
    "    [\"CC\", \"CC\"]\n",
    "]\n",
    "equipo = \"CC\"\n",
    "\n",
    "obtener_proximos(partidos, equipo)"
   ]
  },
  {
   "cell_type": "markdown",
   "metadata": {},
   "source": [
    "#### Output"
   ]
  },
  {
   "cell_type": "code",
   "execution_count": 15,
   "metadata": {},
   "outputs": [
    {
     "data": {
      "text/plain": [
       "[]"
      ]
     },
     "execution_count": 15,
     "metadata": {},
     "output_type": "execute_result"
    }
   ],
   "source": [
    "[]"
   ]
  },
  {
   "cell_type": "markdown",
   "metadata": {},
   "source": [
    "### Testcase 2"
   ]
  },
  {
   "cell_type": "markdown",
   "metadata": {},
   "source": [
    "#### Input"
   ]
  },
  {
   "cell_type": "code",
   "execution_count": 20,
   "metadata": {},
   "outputs": [
    {
     "data": {
      "text/plain": [
       "['CC']"
      ]
     },
     "execution_count": 20,
     "metadata": {},
     "output_type": "execute_result"
    }
   ],
   "source": [
    "# Solo pendiente contra sí mismo\n",
    "partidos = [\n",
    "    [\"CC\", \"UCH\"],\n",
    "    [\"UC\", \"CC\"],\n",
    "    [\"UE\", \"CC\"]\n",
    "]\n",
    "\n",
    "equipo = \"CC\"\n",
    "\n",
    "obtener_proximos(partidos, equipo)"
   ]
  },
  {
   "cell_type": "markdown",
   "metadata": {},
   "source": [
    "#### Output"
   ]
  },
  {
   "cell_type": "code",
   "execution_count": null,
   "metadata": {},
   "outputs": [],
   "source": [
    "[\"CC\"]"
   ]
  },
  {
   "cell_type": "markdown",
   "metadata": {},
   "source": [
    "### Testcase 3"
   ]
  },
  {
   "cell_type": "markdown",
   "metadata": {},
   "source": [
    "#### Input"
   ]
  },
  {
   "cell_type": "code",
   "execution_count": 18,
   "metadata": {},
   "outputs": [
    {
     "data": {
      "text/plain": [
       "['CC', 'COQ', 'HUA', 'LIM', 'OHI', 'UC', 'UCH', 'UE']"
      ]
     },
     "execution_count": 18,
     "metadata": {},
     "output_type": "execute_result"
    }
   ],
   "source": [
    "# Pendientes todos, menos contra sí mismo\n",
    "partidos = [\n",
    "    [\"UCH\", \"CC\"],\n",
    "    [\"UE\", \"UC\"],\n",
    "    [\"HUA\", \"OHI\"],\n",
    "    [\"COQ\", \"LIM\"],\n",
    "    [\"EVE\", \"EVE\"]\n",
    "]\n",
    "equipo = \"EVE\"\n",
    "\n",
    "obtener_proximos(partidos, equipo)"
   ]
  },
  {
   "cell_type": "markdown",
   "metadata": {},
   "source": [
    "#### Output"
   ]
  },
  {
   "cell_type": "code",
   "execution_count": null,
   "metadata": {},
   "outputs": [],
   "source": [
    "[\"CC\", \"COQ\", \"HUA\", \"LIM\", \"OHI\", \"UC\", \"UCH\", \"UE\"]"
   ]
  }
 ],
 "metadata": {
  "kernelspec": {
   "display_name": "3.11.10",
   "language": "python",
   "name": "python3"
  },
  "language_info": {
   "codemirror_mode": {
    "name": "ipython",
    "version": 3
   },
   "file_extension": ".py",
   "mimetype": "text/x-python",
   "name": "python",
   "nbconvert_exporter": "python",
   "pygments_lexer": "ipython3",
   "version": "3.11.10"
  }
 },
 "nbformat": 4,
 "nbformat_minor": 4
}
